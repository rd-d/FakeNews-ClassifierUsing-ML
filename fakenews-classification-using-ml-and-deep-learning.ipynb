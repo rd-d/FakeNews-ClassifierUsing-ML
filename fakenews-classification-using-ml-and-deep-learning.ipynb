{
 "cells": [
  {
   "cell_type": "markdown",
   "id": "prescription-indonesia",
   "metadata": {
    "papermill": {
     "duration": 0.027816,
     "end_time": "2021-04-24T06:09:26.668258",
     "exception": false,
     "start_time": "2021-04-24T06:09:26.640442",
     "status": "completed"
    },
    "tags": []
   },
   "source": [
    "**This is a NLP problem where the task is to classify Fake News in an article. This notebook consists of various stages needed for identifying fake news such as data preprocessing, model experimentation, and evaluation of results.**"
   ]
  },
  {
   "cell_type": "code",
   "execution_count": 1,
   "id": "employed-pontiac",
   "metadata": {
    "execution": {
     "iopub.execute_input": "2021-04-24T06:09:26.726536Z",
     "iopub.status.busy": "2021-04-24T06:09:26.724851Z",
     "iopub.status.idle": "2021-04-24T06:09:34.346956Z",
     "shell.execute_reply": "2021-04-24T06:09:34.346205Z"
    },
    "papermill": {
     "duration": 7.65274,
     "end_time": "2021-04-24T06:09:34.347142",
     "exception": false,
     "start_time": "2021-04-24T06:09:26.694402",
     "status": "completed"
    },
    "tags": []
   },
   "outputs": [
    {
     "name": "stdout",
     "output_type": "stream",
     "text": [
      "[nltk_data] Downloading package stopwords to /usr/share/nltk_data...\n",
      "[nltk_data]   Package stopwords is already up-to-date!\n"
     ]
    }
   ],
   "source": [
    "# Importing Libraries\n",
    "import pandas as pd\n",
    "import numpy as np\n",
    "import nltk\n",
    "import re\n",
    "from nltk.corpus import stopwords\n",
    "nltk.download('stopwords')\n",
    "from tensorflow.keras.layers import Embedding,Dropout\n",
    "from tensorflow.keras.preprocessing.sequence import pad_sequences\n",
    "from tensorflow.keras.models import Sequential\n",
    "from tensorflow.keras.preprocessing.text import one_hot\n",
    "from tensorflow.keras.layers import LSTM,Bidirectional,GRU\n",
    "from tensorflow.keras.layers import Dense\n",
    "from sklearn.metrics import classification_report,accuracy_score\n",
    "from sklearn.linear_model import LogisticRegression\n",
    "from sklearn.tree import DecisionTreeClassifier\n",
    "from sklearn.ensemble import RandomForestClassifier\n",
    "from xgboost import XGBClassifier\n",
    "from catboost import CatBoostClassifier\n",
    "from sklearn.linear_model import LogisticRegression\n",
    "from sklearn.naive_bayes import MultinomialNB"
   ]
  },
  {
   "cell_type": "code",
   "execution_count": 2,
   "id": "fitting-skating",
   "metadata": {
    "execution": {
     "iopub.execute_input": "2021-04-24T06:09:34.410517Z",
     "iopub.status.busy": "2021-04-24T06:09:34.409817Z",
     "iopub.status.idle": "2021-04-24T06:09:36.957933Z",
     "shell.execute_reply": "2021-04-24T06:09:36.956892Z"
    },
    "papermill": {
     "duration": 2.582685,
     "end_time": "2021-04-24T06:09:36.958105",
     "exception": false,
     "start_time": "2021-04-24T06:09:34.375420",
     "status": "completed"
    },
    "tags": []
   },
   "outputs": [
    {
     "data": {
      "text/html": [
       "<div>\n",
       "<style scoped>\n",
       "    .dataframe tbody tr th:only-of-type {\n",
       "        vertical-align: middle;\n",
       "    }\n",
       "\n",
       "    .dataframe tbody tr th {\n",
       "        vertical-align: top;\n",
       "    }\n",
       "\n",
       "    .dataframe thead th {\n",
       "        text-align: right;\n",
       "    }\n",
       "</style>\n",
       "<table border=\"1\" class=\"dataframe\">\n",
       "  <thead>\n",
       "    <tr style=\"text-align: right;\">\n",
       "      <th></th>\n",
       "      <th>id</th>\n",
       "      <th>title</th>\n",
       "      <th>author</th>\n",
       "      <th>text</th>\n",
       "      <th>label</th>\n",
       "    </tr>\n",
       "  </thead>\n",
       "  <tbody>\n",
       "    <tr>\n",
       "      <th>0</th>\n",
       "      <td>0</td>\n",
       "      <td>House Dem Aide: We Didn’t Even See Comey’s Let...</td>\n",
       "      <td>Darrell Lucus</td>\n",
       "      <td>House Dem Aide: We Didn’t Even See Comey’s Let...</td>\n",
       "      <td>1</td>\n",
       "    </tr>\n",
       "    <tr>\n",
       "      <th>1</th>\n",
       "      <td>1</td>\n",
       "      <td>FLYNN: Hillary Clinton, Big Woman on Campus - ...</td>\n",
       "      <td>Daniel J. Flynn</td>\n",
       "      <td>Ever get the feeling your life circles the rou...</td>\n",
       "      <td>0</td>\n",
       "    </tr>\n",
       "    <tr>\n",
       "      <th>2</th>\n",
       "      <td>2</td>\n",
       "      <td>Why the Truth Might Get You Fired</td>\n",
       "      <td>Consortiumnews.com</td>\n",
       "      <td>Why the Truth Might Get You Fired October 29, ...</td>\n",
       "      <td>1</td>\n",
       "    </tr>\n",
       "    <tr>\n",
       "      <th>3</th>\n",
       "      <td>3</td>\n",
       "      <td>15 Civilians Killed In Single US Airstrike Hav...</td>\n",
       "      <td>Jessica Purkiss</td>\n",
       "      <td>Videos 15 Civilians Killed In Single US Airstr...</td>\n",
       "      <td>1</td>\n",
       "    </tr>\n",
       "    <tr>\n",
       "      <th>4</th>\n",
       "      <td>4</td>\n",
       "      <td>Iranian woman jailed for fictional unpublished...</td>\n",
       "      <td>Howard Portnoy</td>\n",
       "      <td>Print \\nAn Iranian woman has been sentenced to...</td>\n",
       "      <td>1</td>\n",
       "    </tr>\n",
       "  </tbody>\n",
       "</table>\n",
       "</div>"
      ],
      "text/plain": [
       "   id                                              title              author  \\\n",
       "0   0  House Dem Aide: We Didn’t Even See Comey’s Let...       Darrell Lucus   \n",
       "1   1  FLYNN: Hillary Clinton, Big Woman on Campus - ...     Daniel J. Flynn   \n",
       "2   2                  Why the Truth Might Get You Fired  Consortiumnews.com   \n",
       "3   3  15 Civilians Killed In Single US Airstrike Hav...     Jessica Purkiss   \n",
       "4   4  Iranian woman jailed for fictional unpublished...      Howard Portnoy   \n",
       "\n",
       "                                                text  label  \n",
       "0  House Dem Aide: We Didn’t Even See Comey’s Let...      1  \n",
       "1  Ever get the feeling your life circles the rou...      0  \n",
       "2  Why the Truth Might Get You Fired October 29, ...      1  \n",
       "3  Videos 15 Civilians Killed In Single US Airstr...      1  \n",
       "4  Print \\nAn Iranian woman has been sentenced to...      1  "
      ]
     },
     "execution_count": 2,
     "metadata": {},
     "output_type": "execute_result"
    }
   ],
   "source": [
    "# Reading data from csv\n",
    "train = pd.read_csv(\"../input/fake-news/train.csv\")\n",
    "test  = pd.read_csv(\"../input/fake-news/test.csv\")\n",
    "train.head()"
   ]
  },
  {
   "cell_type": "code",
   "execution_count": 3,
   "id": "adjacent-emergency",
   "metadata": {
    "execution": {
     "iopub.execute_input": "2021-04-24T06:09:37.027386Z",
     "iopub.status.busy": "2021-04-24T06:09:37.026495Z",
     "iopub.status.idle": "2021-04-24T06:09:37.030601Z",
     "shell.execute_reply": "2021-04-24T06:09:37.031035Z"
    },
    "papermill": {
     "duration": 0.045255,
     "end_time": "2021-04-24T06:09:37.031193",
     "exception": false,
     "start_time": "2021-04-24T06:09:36.985938",
     "status": "completed"
    },
    "tags": []
   },
   "outputs": [
    {
     "data": {
      "text/html": [
       "<div>\n",
       "<style scoped>\n",
       "    .dataframe tbody tr th:only-of-type {\n",
       "        vertical-align: middle;\n",
       "    }\n",
       "\n",
       "    .dataframe tbody tr th {\n",
       "        vertical-align: top;\n",
       "    }\n",
       "\n",
       "    .dataframe thead th {\n",
       "        text-align: right;\n",
       "    }\n",
       "</style>\n",
       "<table border=\"1\" class=\"dataframe\">\n",
       "  <thead>\n",
       "    <tr style=\"text-align: right;\">\n",
       "      <th></th>\n",
       "      <th>id</th>\n",
       "      <th>title</th>\n",
       "      <th>author</th>\n",
       "      <th>text</th>\n",
       "    </tr>\n",
       "  </thead>\n",
       "  <tbody>\n",
       "    <tr>\n",
       "      <th>0</th>\n",
       "      <td>20800</td>\n",
       "      <td>Specter of Trump Loosens Tongues, if Not Purse...</td>\n",
       "      <td>David Streitfeld</td>\n",
       "      <td>PALO ALTO, Calif.  —   After years of scorning...</td>\n",
       "    </tr>\n",
       "    <tr>\n",
       "      <th>1</th>\n",
       "      <td>20801</td>\n",
       "      <td>Russian warships ready to strike terrorists ne...</td>\n",
       "      <td>NaN</td>\n",
       "      <td>Russian warships ready to strike terrorists ne...</td>\n",
       "    </tr>\n",
       "    <tr>\n",
       "      <th>2</th>\n",
       "      <td>20802</td>\n",
       "      <td>#NoDAPL: Native American Leaders Vow to Stay A...</td>\n",
       "      <td>Common Dreams</td>\n",
       "      <td>Videos #NoDAPL: Native American Leaders Vow to...</td>\n",
       "    </tr>\n",
       "    <tr>\n",
       "      <th>3</th>\n",
       "      <td>20803</td>\n",
       "      <td>Tim Tebow Will Attempt Another Comeback, This ...</td>\n",
       "      <td>Daniel Victor</td>\n",
       "      <td>If at first you don’t succeed, try a different...</td>\n",
       "    </tr>\n",
       "    <tr>\n",
       "      <th>4</th>\n",
       "      <td>20804</td>\n",
       "      <td>Keiser Report: Meme Wars (E995)</td>\n",
       "      <td>Truth Broadcast Network</td>\n",
       "      <td>42 mins ago 1 Views 0 Comments 0 Likes 'For th...</td>\n",
       "    </tr>\n",
       "  </tbody>\n",
       "</table>\n",
       "</div>"
      ],
      "text/plain": [
       "      id                                              title  \\\n",
       "0  20800  Specter of Trump Loosens Tongues, if Not Purse...   \n",
       "1  20801  Russian warships ready to strike terrorists ne...   \n",
       "2  20802  #NoDAPL: Native American Leaders Vow to Stay A...   \n",
       "3  20803  Tim Tebow Will Attempt Another Comeback, This ...   \n",
       "4  20804                    Keiser Report: Meme Wars (E995)   \n",
       "\n",
       "                    author                                               text  \n",
       "0         David Streitfeld  PALO ALTO, Calif.  —   After years of scorning...  \n",
       "1                      NaN  Russian warships ready to strike terrorists ne...  \n",
       "2            Common Dreams  Videos #NoDAPL: Native American Leaders Vow to...  \n",
       "3            Daniel Victor  If at first you don’t succeed, try a different...  \n",
       "4  Truth Broadcast Network  42 mins ago 1 Views 0 Comments 0 Likes 'For th...  "
      ]
     },
     "execution_count": 3,
     "metadata": {},
     "output_type": "execute_result"
    }
   ],
   "source": [
    "test.head()"
   ]
  },
  {
   "cell_type": "code",
   "execution_count": 4,
   "id": "documented-acrobat",
   "metadata": {
    "execution": {
     "iopub.execute_input": "2021-04-24T06:09:37.096950Z",
     "iopub.status.busy": "2021-04-24T06:09:37.096112Z",
     "iopub.status.idle": "2021-04-24T06:09:37.100928Z",
     "shell.execute_reply": "2021-04-24T06:09:37.100444Z"
    },
    "papermill": {
     "duration": 0.040823,
     "end_time": "2021-04-24T06:09:37.101079",
     "exception": false,
     "start_time": "2021-04-24T06:09:37.060256",
     "status": "completed"
    },
    "tags": []
   },
   "outputs": [
    {
     "name": "stdout",
     "output_type": "stream",
     "text": [
      "There are 20800 number of rows and 5 number of columns for training.\n",
      "There are 5200 number of rows and 4 number of columns for testing.\n"
     ]
    }
   ],
   "source": [
    "# Displaying rows and columns in dataset\n",
    "print(\"There are {} number of rows and {} number of columns for training.\".format(train.shape[0],train.shape[1]))\n",
    "print(\"There are {} number of rows and {} number of columns for testing.\".format(test.shape[0],test.shape[1]))"
   ]
  },
  {
   "cell_type": "markdown",
   "id": "bound-departure",
   "metadata": {
    "papermill": {
     "duration": 0.028949,
     "end_time": "2021-04-24T06:09:37.159602",
     "exception": false,
     "start_time": "2021-04-24T06:09:37.130653",
     "status": "completed"
    },
    "tags": []
   },
   "source": [
    "**Checking Null Values**"
   ]
  },
  {
   "cell_type": "code",
   "execution_count": 5,
   "id": "tamil-horse",
   "metadata": {
    "execution": {
     "iopub.execute_input": "2021-04-24T06:09:37.231801Z",
     "iopub.status.busy": "2021-04-24T06:09:37.230875Z",
     "iopub.status.idle": "2021-04-24T06:09:37.238038Z",
     "shell.execute_reply": "2021-04-24T06:09:37.237532Z"
    },
    "papermill": {
     "duration": 0.049253,
     "end_time": "2021-04-24T06:09:37.238281",
     "exception": false,
     "start_time": "2021-04-24T06:09:37.189028",
     "status": "completed"
    },
    "tags": []
   },
   "outputs": [
    {
     "data": {
      "text/plain": [
       "id           0\n",
       "title      558\n",
       "author    1957\n",
       "text        39\n",
       "label        0\n",
       "dtype: int64"
      ]
     },
     "execution_count": 5,
     "metadata": {},
     "output_type": "execute_result"
    }
   ],
   "source": [
    "# Checking the null values in training data.\n",
    "train.isnull().sum()"
   ]
  },
  {
   "cell_type": "code",
   "execution_count": 6,
   "id": "pediatric-parameter",
   "metadata": {
    "execution": {
     "iopub.execute_input": "2021-04-24T06:09:37.307362Z",
     "iopub.status.busy": "2021-04-24T06:09:37.306474Z",
     "iopub.status.idle": "2021-04-24T06:09:37.310241Z",
     "shell.execute_reply": "2021-04-24T06:09:37.310695Z"
    },
    "papermill": {
     "duration": 0.042807,
     "end_time": "2021-04-24T06:09:37.310855",
     "exception": false,
     "start_time": "2021-04-24T06:09:37.268048",
     "status": "completed"
    },
    "tags": []
   },
   "outputs": [
    {
     "data": {
      "text/plain": [
       "id          0\n",
       "title     122\n",
       "author    503\n",
       "text        7\n",
       "dtype: int64"
      ]
     },
     "execution_count": 6,
     "metadata": {},
     "output_type": "execute_result"
    }
   ],
   "source": [
    "# Checking the null values in testing data.\n",
    "test.isnull().sum()"
   ]
  },
  {
   "cell_type": "code",
   "execution_count": 7,
   "id": "brief-honor",
   "metadata": {
    "execution": {
     "iopub.execute_input": "2021-04-24T06:09:37.384298Z",
     "iopub.status.busy": "2021-04-24T06:09:37.383308Z",
     "iopub.status.idle": "2021-04-24T06:09:37.393623Z",
     "shell.execute_reply": "2021-04-24T06:09:37.393113Z"
    },
    "papermill": {
     "duration": 0.053598,
     "end_time": "2021-04-24T06:09:37.393764",
     "exception": false,
     "start_time": "2021-04-24T06:09:37.340166",
     "status": "completed"
    },
    "tags": []
   },
   "outputs": [],
   "source": [
    "# Handling nan values in dataset using empty spaces\n",
    "def handle_nan(train_data,test_data):\n",
    "    '''Input: Data to the function containing Nan values.\n",
    "       Output : Cleaned data containing no Nan values.\n",
    "       Function: Cleaning Nan values.\n",
    "     '''\n",
    "    train = train_data.fillna(\" \")\n",
    "    test  = test_data.fillna(\" \")\n",
    "    return train,test\n",
    "\n",
    "train,test = handle_nan(train,test)\n"
   ]
  },
  {
   "cell_type": "code",
   "execution_count": 8,
   "id": "approximate-radio",
   "metadata": {
    "execution": {
     "iopub.execute_input": "2021-04-24T06:09:37.463196Z",
     "iopub.status.busy": "2021-04-24T06:09:37.462359Z",
     "iopub.status.idle": "2021-04-24T06:09:37.499005Z",
     "shell.execute_reply": "2021-04-24T06:09:37.498015Z"
    },
    "papermill": {
     "duration": 0.074502,
     "end_time": "2021-04-24T06:09:37.499162",
     "exception": false,
     "start_time": "2021-04-24T06:09:37.424660",
     "status": "completed"
    },
    "tags": []
   },
   "outputs": [],
   "source": [
    "# Creating a variable \"merged\" by merging columns \"title\" and \"author\"\n",
    "train[\"merged\"] = train[\"title\"]+\" \"+train[\"author\"]\n",
    "test[\"merged\"]  = test[\"title\"]+\" \"+test[\"author\"]"
   ]
  },
  {
   "cell_type": "code",
   "execution_count": 9,
   "id": "harmful-catalog",
   "metadata": {
    "execution": {
     "iopub.execute_input": "2021-04-24T06:09:37.568349Z",
     "iopub.status.busy": "2021-04-24T06:09:37.567217Z",
     "iopub.status.idle": "2021-04-24T06:09:37.579148Z",
     "shell.execute_reply": "2021-04-24T06:09:37.578592Z"
    },
    "papermill": {
     "duration": 0.049049,
     "end_time": "2021-04-24T06:09:37.579289",
     "exception": false,
     "start_time": "2021-04-24T06:09:37.530240",
     "status": "completed"
    },
    "tags": []
   },
   "outputs": [],
   "source": [
    "# Seperating Independent and dependent features\n",
    "X = train.drop(columns=['label'],axis=1)\n",
    "y = train['label']"
   ]
  },
  {
   "cell_type": "code",
   "execution_count": 10,
   "id": "persistent-fetish",
   "metadata": {
    "execution": {
     "iopub.execute_input": "2021-04-24T06:09:37.650672Z",
     "iopub.status.busy": "2021-04-24T06:09:37.649601Z",
     "iopub.status.idle": "2021-04-24T06:09:37.657298Z",
     "shell.execute_reply": "2021-04-24T06:09:37.657843Z"
    },
    "papermill": {
     "duration": 0.046399,
     "end_time": "2021-04-24T06:09:37.658022",
     "exception": false,
     "start_time": "2021-04-24T06:09:37.611623",
     "status": "completed"
    },
    "tags": []
   },
   "outputs": [],
   "source": [
    "# Creating One-Hot Representations\n",
    "messages = X.copy()\n",
    "messages.reset_index(inplace=True)\n",
    "messages_test = test.copy()\n",
    "messages_test.reset_index(inplace=True)"
   ]
  },
  {
   "cell_type": "markdown",
   "id": "taken-negotiation",
   "metadata": {
    "papermill": {
     "duration": 0.031333,
     "end_time": "2021-04-24T06:09:37.721583",
     "exception": false,
     "start_time": "2021-04-24T06:09:37.690250",
     "status": "completed"
    },
    "tags": []
   },
   "source": [
    "# Data Pre-processing\n",
    "**In Data Pre-processing following steps are followed:** \n",
    "**1. Firstly, all the sequences except english characters are removed from the string.**\n",
    "**2. Next, to avoid false predictions or ambiguity with upper and lowercase, all the characters in strings are converted    to lowercase.**\n",
    "**3. Next, all the sentences are tokenized into words.**\n",
    "**4. To facilitate fast processing, stemming is applied to the tokenized words.**\n",
    "**5. Next, words are joined together and stored in the corpus.**\n",
    "\n",
    "**Note: In this tutorial, we have used \"merged\" column for classification task. Also, the loop inside the function runs over all the examples in the merged column.**"
   ]
  },
  {
   "cell_type": "code",
   "execution_count": 11,
   "id": "expected-neighbor",
   "metadata": {
    "execution": {
     "iopub.execute_input": "2021-04-24T06:09:37.795326Z",
     "iopub.status.busy": "2021-04-24T06:09:37.794323Z",
     "iopub.status.idle": "2021-04-24T06:10:32.250147Z",
     "shell.execute_reply": "2021-04-24T06:10:32.250689Z"
    },
    "papermill": {
     "duration": 54.497618,
     "end_time": "2021-04-24T06:10:32.250847",
     "exception": false,
     "start_time": "2021-04-24T06:09:37.753229",
     "status": "completed"
    },
    "tags": []
   },
   "outputs": [
    {
     "data": {
      "text/plain": [
       "'flynn hillari clinton big woman campu breitbart daniel j flynn'"
      ]
     },
     "execution_count": 11,
     "metadata": {},
     "output_type": "execute_result"
    }
   ],
   "source": [
    "# Performing data preprocessing on column 'title'\n",
    "from nltk.stem.porter import PorterStemmer\n",
    "ps = PorterStemmer()\n",
    "def perform_preprocess(data):\n",
    "    '''Input: Data to be processed\n",
    "       Output: Preprocessed data\n",
    "    '''\n",
    "    corpus = []\n",
    "    for i in range(0,len(data)):\n",
    "        review = re.sub('[^a-zA-Z]',' ',data['merged'][i])\n",
    "        review = review.lower()\n",
    "        review = review.split()\n",
    "        review = [ps.stem(word) for word in review if word not in stopwords.words('english')]\n",
    "        review = ' '.join(review)\n",
    "        corpus.append(review)\n",
    "    return corpus\n",
    "    \n",
    "train_corpus = perform_preprocess(messages)\n",
    "test_corpus  = perform_preprocess(messages_test)\n",
    "train_corpus[1]"
   ]
  },
  {
   "cell_type": "code",
   "execution_count": 12,
   "id": "printable-isaac",
   "metadata": {
    "execution": {
     "iopub.execute_input": "2021-04-24T06:10:32.313006Z",
     "iopub.status.busy": "2021-04-24T06:10:32.312193Z",
     "iopub.status.idle": "2021-04-24T06:10:32.315651Z",
     "shell.execute_reply": "2021-04-24T06:10:32.316046Z"
    },
    "papermill": {
     "duration": 0.037042,
     "end_time": "2021-04-24T06:10:32.316180",
     "exception": false,
     "start_time": "2021-04-24T06:10:32.279138",
     "status": "completed"
    },
    "tags": []
   },
   "outputs": [
    {
     "data": {
      "text/plain": [
       "'russian warship readi strike terrorist near aleppo'"
      ]
     },
     "execution_count": 12,
     "metadata": {},
     "output_type": "execute_result"
    }
   ],
   "source": [
    "test_corpus[1]"
   ]
  },
  {
   "cell_type": "markdown",
   "id": "pediatric-translator",
   "metadata": {
    "papermill": {
     "duration": 0.028343,
     "end_time": "2021-04-24T06:10:32.372744",
     "exception": false,
     "start_time": "2021-04-24T06:10:32.344401",
     "status": "completed"
    },
    "tags": []
   },
   "source": [
    "**Below code converts the pre-processed words to one-hot vectors in the range of vocabulary size=5000. This is done to obtain numerical feature matrix**"
   ]
  },
  {
   "cell_type": "code",
   "execution_count": 13,
   "id": "economic-allergy",
   "metadata": {
    "execution": {
     "iopub.execute_input": "2021-04-24T06:10:32.453681Z",
     "iopub.status.busy": "2021-04-24T06:10:32.448588Z",
     "iopub.status.idle": "2021-04-24T06:10:32.764062Z",
     "shell.execute_reply": "2021-04-24T06:10:32.763601Z"
    },
    "papermill": {
     "duration": 0.3634,
     "end_time": "2021-04-24T06:10:32.764200",
     "exception": false,
     "start_time": "2021-04-24T06:10:32.400800",
     "status": "completed"
    },
    "tags": []
   },
   "outputs": [],
   "source": [
    "# Converting to one-hot repr.\n",
    "vocab_size = 5000\n",
    "one_hot_train = [one_hot(word,vocab_size) for word in train_corpus]\n",
    "one_hot_test  = [one_hot(word,vocab_size) for word in test_corpus]"
   ]
  },
  {
   "cell_type": "code",
   "execution_count": 14,
   "id": "three-lemon",
   "metadata": {
    "execution": {
     "iopub.execute_input": "2021-04-24T06:10:32.825499Z",
     "iopub.status.busy": "2021-04-24T06:10:32.824956Z",
     "iopub.status.idle": "2021-04-24T06:10:32.830896Z",
     "shell.execute_reply": "2021-04-24T06:10:32.830451Z"
    },
    "papermill": {
     "duration": 0.038526,
     "end_time": "2021-04-24T06:10:32.831020",
     "exception": false,
     "start_time": "2021-04-24T06:10:32.792494",
     "status": "completed"
    },
    "tags": []
   },
   "outputs": [
    {
     "data": {
      "text/plain": [
       "[2916, 2840, 3226, 4848, 4254, 3045, 3068]"
      ]
     },
     "execution_count": 14,
     "metadata": {},
     "output_type": "execute_result"
    }
   ],
   "source": [
    "one_hot_test[1]"
   ]
  },
  {
   "cell_type": "markdown",
   "id": "enclosed-steam",
   "metadata": {
    "papermill": {
     "duration": 0.029189,
     "end_time": "2021-04-24T06:10:32.888995",
     "exception": false,
     "start_time": "2021-04-24T06:10:32.859806",
     "status": "completed"
    },
    "tags": []
   },
   "source": [
    "**Below code creates an embedding layer which applies \"pre\" padding to the one-hot encoded features with sentence length = 20. Padding is applied so that the length of every sequence in the dataset should be same.**"
   ]
  },
  {
   "cell_type": "code",
   "execution_count": 15,
   "id": "frequent-driver",
   "metadata": {
    "execution": {
     "iopub.execute_input": "2021-04-24T06:10:32.955332Z",
     "iopub.status.busy": "2021-04-24T06:10:32.954546Z",
     "iopub.status.idle": "2021-04-24T06:10:33.139938Z",
     "shell.execute_reply": "2021-04-24T06:10:33.140692Z"
    },
    "papermill": {
     "duration": 0.223139,
     "end_time": "2021-04-24T06:10:33.140894",
     "exception": false,
     "start_time": "2021-04-24T06:10:32.917755",
     "status": "completed"
    },
    "tags": []
   },
   "outputs": [
    {
     "name": "stdout",
     "output_type": "stream",
     "text": [
      "[[   0    0    0 ... 1230 3099 1908]\n",
      " [   0    0    0 ... 1133 2911 1134]\n",
      " [   0    0    0 ... 4835 1259 4319]\n",
      " ...\n",
      " [   0    0    0 ...  131   99  388]\n",
      " [   0    0    0 ... 1416 3637 1309]\n",
      " [   0    0    0 ... 2698 4562 3497]]\n"
     ]
    }
   ],
   "source": [
    "# Embedding Representation \n",
    "sent_length = 20\n",
    "embedd_docs_train = pad_sequences(one_hot_train,padding='pre',maxlen=sent_length)\n",
    "embedd_docs_test  = pad_sequences(one_hot_test,padding='pre',maxlen=sent_length)\n",
    "print(embedd_docs_train)"
   ]
  },
  {
   "cell_type": "code",
   "execution_count": 16,
   "id": "civil-teach",
   "metadata": {
    "execution": {
     "iopub.execute_input": "2021-04-24T06:10:33.212287Z",
     "iopub.status.busy": "2021-04-24T06:10:33.210668Z",
     "iopub.status.idle": "2021-04-24T06:10:33.214919Z",
     "shell.execute_reply": "2021-04-24T06:10:33.214284Z"
    },
    "papermill": {
     "duration": 0.041224,
     "end_time": "2021-04-24T06:10:33.215080",
     "exception": false,
     "start_time": "2021-04-24T06:10:33.173856",
     "status": "completed"
    },
    "tags": []
   },
   "outputs": [
    {
     "name": "stdout",
     "output_type": "stream",
     "text": [
      "[[   0    0    0 ... 3624 4562 1025]\n",
      " [   0    0    0 ... 4254 3045 3068]\n",
      " [   0    0    0 ... 1860 1729  622]\n",
      " ...\n",
      " [   0    0    0 ... 3624  284  133]\n",
      " [   0    0    0 ... 2916 2738 1332]\n",
      " [   0    0    0 ... 3624 2909  338]]\n"
     ]
    }
   ],
   "source": [
    "print(embedd_docs_test)"
   ]
  },
  {
   "cell_type": "code",
   "execution_count": 17,
   "id": "therapeutic-witness",
   "metadata": {
    "execution": {
     "iopub.execute_input": "2021-04-24T06:10:33.281834Z",
     "iopub.status.busy": "2021-04-24T06:10:33.280947Z",
     "iopub.status.idle": "2021-04-24T06:10:33.285462Z",
     "shell.execute_reply": "2021-04-24T06:10:33.285039Z"
    },
    "papermill": {
     "duration": 0.039306,
     "end_time": "2021-04-24T06:10:33.285599",
     "exception": false,
     "start_time": "2021-04-24T06:10:33.246293",
     "status": "completed"
    },
    "tags": []
   },
   "outputs": [],
   "source": [
    "# Converting Embedding repr. to array\n",
    "x_final = np.array(embedd_docs_train)\n",
    "y_final = np.array(y)\n",
    "x_test_final = np.array(embedd_docs_test)"
   ]
  },
  {
   "cell_type": "code",
   "execution_count": 18,
   "id": "sophisticated-warehouse",
   "metadata": {
    "execution": {
     "iopub.execute_input": "2021-04-24T06:10:33.351976Z",
     "iopub.status.busy": "2021-04-24T06:10:33.351288Z",
     "iopub.status.idle": "2021-04-24T06:10:33.354356Z",
     "shell.execute_reply": "2021-04-24T06:10:33.354814Z"
    },
    "papermill": {
     "duration": 0.038988,
     "end_time": "2021-04-24T06:10:33.354952",
     "exception": false,
     "start_time": "2021-04-24T06:10:33.315964",
     "status": "completed"
    },
    "tags": []
   },
   "outputs": [
    {
     "data": {
      "text/plain": [
       "((20800, 20), (20800,), (5200, 20))"
      ]
     },
     "execution_count": 18,
     "metadata": {},
     "output_type": "execute_result"
    }
   ],
   "source": [
    "# Dimensions of prev. array repr.\n",
    "x_final.shape,y_final.shape,x_test_final.shape"
   ]
  },
  {
   "cell_type": "markdown",
   "id": "decimal-business",
   "metadata": {
    "papermill": {
     "duration": 0.030394,
     "end_time": "2021-04-24T06:10:33.415857",
     "exception": false,
     "start_time": "2021-04-24T06:10:33.385463",
     "status": "completed"
    },
    "tags": []
   },
   "source": [
    "**Dividing the dataset into training,validation and testing data (ratio: 80/10/10) using train_test_split technique.**"
   ]
  },
  {
   "cell_type": "code",
   "execution_count": 19,
   "id": "floppy-divide",
   "metadata": {
    "execution": {
     "iopub.execute_input": "2021-04-24T06:10:33.484108Z",
     "iopub.status.busy": "2021-04-24T06:10:33.483148Z",
     "iopub.status.idle": "2021-04-24T06:10:33.518138Z",
     "shell.execute_reply": "2021-04-24T06:10:33.517642Z"
    },
    "papermill": {
     "duration": 0.071135,
     "end_time": "2021-04-24T06:10:33.518266",
     "exception": false,
     "start_time": "2021-04-24T06:10:33.447131",
     "status": "completed"
    },
    "tags": []
   },
   "outputs": [],
   "source": [
    "from sklearn.model_selection import train_test_split\n",
    "x_train, x_test, y_train, y_test = train_test_split(x_final, y_final, test_size=0.1, random_state=42, stratify = y_final)\n",
    "X_train, x_valid, Y_train, y_valid = train_test_split(x_train, y_train, test_size=0.1, random_state=42, stratify = y_train)\n",
    "x_test_final = x_test_final"
   ]
  },
  {
   "cell_type": "markdown",
   "id": "outstanding-there",
   "metadata": {
    "papermill": {
     "duration": 0.030769,
     "end_time": "2021-04-24T06:10:33.580032",
     "exception": false,
     "start_time": "2021-04-24T06:10:33.549263",
     "status": "completed"
    },
    "tags": []
   },
   "source": [
    "# Creating Models\n",
    "**In this phase, several models are created and evaluated against various metrics shown using classification report.**"
   ]
  },
  {
   "cell_type": "markdown",
   "id": "colonial-dryer",
   "metadata": {
    "papermill": {
     "duration": 0.030252,
     "end_time": "2021-04-24T06:10:33.641000",
     "exception": false,
     "start_time": "2021-04-24T06:10:33.610748",
     "status": "completed"
    },
    "tags": []
   },
   "source": [
    "**1. Logistic Regresssion**"
   ]
  },
  {
   "cell_type": "code",
   "execution_count": 20,
   "id": "realistic-merchandise",
   "metadata": {
    "execution": {
     "iopub.execute_input": "2021-04-24T06:10:33.708354Z",
     "iopub.status.busy": "2021-04-24T06:10:33.707412Z",
     "iopub.status.idle": "2021-04-24T06:10:34.492276Z",
     "shell.execute_reply": "2021-04-24T06:10:34.493735Z"
    },
    "papermill": {
     "duration": 0.821975,
     "end_time": "2021-04-24T06:10:34.493942",
     "exception": false,
     "start_time": "2021-04-24T06:10:33.671967",
     "status": "completed"
    },
    "tags": []
   },
   "outputs": [
    {
     "name": "stdout",
     "output_type": "stream",
     "text": [
      "              precision    recall  f1-score   support\n",
      "\n",
      "           0       0.70      0.73      0.71      1039\n",
      "           1       0.72      0.68      0.70      1041\n",
      "\n",
      "    accuracy                           0.71      2080\n",
      "   macro avg       0.71      0.71      0.71      2080\n",
      "weighted avg       0.71      0.71      0.71      2080\n",
      "\n"
     ]
    }
   ],
   "source": [
    "model_1 = LogisticRegression(max_iter=900)\n",
    "model_1.fit(X_train,Y_train)\n",
    "pred_1 = model_1.predict(x_test)\n",
    "cr1    = classification_report(y_test,pred_1)\n",
    "print(cr1)"
   ]
  },
  {
   "cell_type": "markdown",
   "id": "western-scratch",
   "metadata": {
    "papermill": {
     "duration": 0.056264,
     "end_time": "2021-04-24T06:10:34.642128",
     "exception": false,
     "start_time": "2021-04-24T06:10:34.585864",
     "status": "completed"
    },
    "tags": []
   },
   "source": [
    "**2. Naive Bayes**"
   ]
  },
  {
   "cell_type": "code",
   "execution_count": 21,
   "id": "cognitive-respondent",
   "metadata": {
    "execution": {
     "iopub.execute_input": "2021-04-24T06:10:34.768702Z",
     "iopub.status.busy": "2021-04-24T06:10:34.767755Z",
     "iopub.status.idle": "2021-04-24T06:10:34.793854Z",
     "shell.execute_reply": "2021-04-24T06:10:34.794533Z"
    },
    "papermill": {
     "duration": 0.095847,
     "end_time": "2021-04-24T06:10:34.794783",
     "exception": false,
     "start_time": "2021-04-24T06:10:34.698936",
     "status": "completed"
    },
    "tags": []
   },
   "outputs": [
    {
     "name": "stdout",
     "output_type": "stream",
     "text": [
      "              precision    recall  f1-score   support\n",
      "\n",
      "           0       0.70      0.59      0.64      1039\n",
      "           1       0.65      0.75      0.69      1041\n",
      "\n",
      "    accuracy                           0.67      2080\n",
      "   macro avg       0.67      0.67      0.67      2080\n",
      "weighted avg       0.67      0.67      0.67      2080\n",
      "\n"
     ]
    }
   ],
   "source": [
    "model_2 = MultinomialNB()\n",
    "model_2.fit(X_train,Y_train)\n",
    "pred_2 = model_2.predict(x_test)\n",
    "cr2    = classification_report(y_test,pred_2)\n",
    "print(cr2)"
   ]
  },
  {
   "cell_type": "markdown",
   "id": "adverse-finder",
   "metadata": {
    "papermill": {
     "duration": 0.054694,
     "end_time": "2021-04-24T06:10:34.915701",
     "exception": false,
     "start_time": "2021-04-24T06:10:34.861007",
     "status": "completed"
    },
    "tags": []
   },
   "source": [
    "**3. Decision Trees**"
   ]
  },
  {
   "cell_type": "code",
   "execution_count": 22,
   "id": "parliamentary-width",
   "metadata": {
    "execution": {
     "iopub.execute_input": "2021-04-24T06:10:35.025257Z",
     "iopub.status.busy": "2021-04-24T06:10:35.024595Z",
     "iopub.status.idle": "2021-04-24T06:10:35.290849Z",
     "shell.execute_reply": "2021-04-24T06:10:35.291776Z"
    },
    "papermill": {
     "duration": 0.330978,
     "end_time": "2021-04-24T06:10:35.291966",
     "exception": false,
     "start_time": "2021-04-24T06:10:34.960988",
     "status": "completed"
    },
    "tags": []
   },
   "outputs": [
    {
     "name": "stdout",
     "output_type": "stream",
     "text": [
      "              precision    recall  f1-score   support\n",
      "\n",
      "           0       0.89      0.91      0.90      1039\n",
      "           1       0.90      0.89      0.90      1041\n",
      "\n",
      "    accuracy                           0.90      2080\n",
      "   macro avg       0.90      0.90      0.90      2080\n",
      "weighted avg       0.90      0.90      0.90      2080\n",
      "\n"
     ]
    }
   ],
   "source": [
    "model_3 = DecisionTreeClassifier()\n",
    "model_3.fit(X_train,Y_train)\n",
    "pred_3 = model_3.predict(x_test)\n",
    "cr3    = classification_report(y_test,pred_3)\n",
    "print(cr3)"
   ]
  },
  {
   "cell_type": "markdown",
   "id": "retired-tobago",
   "metadata": {
    "papermill": {
     "duration": 0.048039,
     "end_time": "2021-04-24T06:10:35.389617",
     "exception": false,
     "start_time": "2021-04-24T06:10:35.341578",
     "status": "completed"
    },
    "tags": []
   },
   "source": [
    "**4. Random Forest**"
   ]
  },
  {
   "cell_type": "code",
   "execution_count": 23,
   "id": "built-bargain",
   "metadata": {
    "execution": {
     "iopub.execute_input": "2021-04-24T06:10:35.497352Z",
     "iopub.status.busy": "2021-04-24T06:10:35.496635Z",
     "iopub.status.idle": "2021-04-24T06:10:38.616737Z",
     "shell.execute_reply": "2021-04-24T06:10:38.616078Z"
    },
    "papermill": {
     "duration": 3.178312,
     "end_time": "2021-04-24T06:10:38.616901",
     "exception": false,
     "start_time": "2021-04-24T06:10:35.438589",
     "status": "completed"
    },
    "tags": []
   },
   "outputs": [
    {
     "name": "stdout",
     "output_type": "stream",
     "text": [
      "              precision    recall  f1-score   support\n",
      "\n",
      "           0       0.94      0.87      0.90      1039\n",
      "           1       0.88      0.94      0.91      1041\n",
      "\n",
      "    accuracy                           0.90      2080\n",
      "   macro avg       0.91      0.90      0.90      2080\n",
      "weighted avg       0.91      0.90      0.90      2080\n",
      "\n"
     ]
    }
   ],
   "source": [
    "model_4 = RandomForestClassifier()\n",
    "model_4.fit(X_train,Y_train)\n",
    "pred_4 = model_4.predict(x_test)\n",
    "cr4    = classification_report(y_test,pred_4)\n",
    "print(cr4)"
   ]
  },
  {
   "cell_type": "markdown",
   "id": "developmental-cornwall",
   "metadata": {
    "papermill": {
     "duration": 0.052353,
     "end_time": "2021-04-24T06:10:38.722466",
     "exception": false,
     "start_time": "2021-04-24T06:10:38.670113",
     "status": "completed"
    },
    "tags": []
   },
   "source": [
    "**5. XGBOOST**"
   ]
  },
  {
   "cell_type": "code",
   "execution_count": 24,
   "id": "congressional-berlin",
   "metadata": {
    "execution": {
     "iopub.execute_input": "2021-04-24T06:10:38.834684Z",
     "iopub.status.busy": "2021-04-24T06:10:38.833993Z",
     "iopub.status.idle": "2021-04-24T06:10:44.681315Z",
     "shell.execute_reply": "2021-04-24T06:10:44.681834Z"
    },
    "papermill": {
     "duration": 5.907179,
     "end_time": "2021-04-24T06:10:44.682012",
     "exception": false,
     "start_time": "2021-04-24T06:10:38.774833",
     "status": "completed"
    },
    "tags": []
   },
   "outputs": [
    {
     "name": "stderr",
     "output_type": "stream",
     "text": [
      "/opt/conda/lib/python3.7/site-packages/xgboost/sklearn.py:1146: UserWarning: The use of label encoder in XGBClassifier is deprecated and will be removed in a future release. To remove this warning, do the following: 1) Pass option use_label_encoder=False when constructing XGBClassifier object; and 2) Encode your labels (y) as integers starting with 0, i.e. 0, 1, 2, ..., [num_class - 1].\n",
      "  warnings.warn(label_encoder_deprecation_msg, UserWarning)\n"
     ]
    },
    {
     "name": "stdout",
     "output_type": "stream",
     "text": [
      "[06:10:42] WARNING: ../src/learner.cc:1095: Starting in XGBoost 1.3.0, the default evaluation metric used with the objective 'binary:logistic' was changed from 'error' to 'logloss'. Explicitly set eval_metric if you'd like to restore the old behavior.\n",
      "              precision    recall  f1-score   support\n",
      "\n",
      "           0       0.99      0.98      0.98      1039\n",
      "           1       0.98      0.99      0.98      1041\n",
      "\n",
      "    accuracy                           0.98      2080\n",
      "   macro avg       0.98      0.98      0.98      2080\n",
      "weighted avg       0.98      0.98      0.98      2080\n",
      "\n"
     ]
    }
   ],
   "source": [
    "model_5 = XGBClassifier()\n",
    "model_5.fit(X_train,Y_train)\n",
    "pred_5 = model_5.predict(x_test)\n",
    "cr5    = classification_report(y_test,pred_5)\n",
    "print(cr5)"
   ]
  },
  {
   "cell_type": "markdown",
   "id": "filled-charity",
   "metadata": {
    "papermill": {
     "duration": 0.033318,
     "end_time": "2021-04-24T06:10:44.749736",
     "exception": false,
     "start_time": "2021-04-24T06:10:44.716418",
     "status": "completed"
    },
    "tags": []
   },
   "source": [
    "**6.Catboost**"
   ]
  },
  {
   "cell_type": "code",
   "execution_count": 25,
   "id": "taken-functionality",
   "metadata": {
    "execution": {
     "iopub.execute_input": "2021-04-24T06:10:44.978756Z",
     "iopub.status.busy": "2021-04-24T06:10:44.831427Z",
     "iopub.status.idle": "2021-04-24T06:10:48.010153Z",
     "shell.execute_reply": "2021-04-24T06:10:48.010658Z"
    },
    "papermill": {
     "duration": 3.227673,
     "end_time": "2021-04-24T06:10:48.010817",
     "exception": false,
     "start_time": "2021-04-24T06:10:44.783144",
     "status": "completed"
    },
    "tags": []
   },
   "outputs": [
    {
     "name": "stdout",
     "output_type": "stream",
     "text": [
      "Learning rate set to 0.150531\n",
      "0:\tlearn: 0.5528793\ttotal: 80.5ms\tremaining: 16s\n",
      "1:\tlearn: 0.5105378\ttotal: 106ms\tremaining: 10.5s\n",
      "2:\tlearn: 0.4458318\ttotal: 124ms\tremaining: 8.12s\n",
      "3:\tlearn: 0.4226531\ttotal: 141ms\tremaining: 6.91s\n",
      "4:\tlearn: 0.3964822\ttotal: 160ms\tremaining: 6.23s\n",
      "5:\tlearn: 0.3845135\ttotal: 180ms\tremaining: 5.83s\n",
      "6:\tlearn: 0.3688921\ttotal: 199ms\tremaining: 5.48s\n",
      "7:\tlearn: 0.3523856\ttotal: 215ms\tremaining: 5.17s\n",
      "8:\tlearn: 0.3437317\ttotal: 233ms\tremaining: 4.95s\n",
      "9:\tlearn: 0.3343491\ttotal: 259ms\tremaining: 4.93s\n",
      "10:\tlearn: 0.3271354\ttotal: 294ms\tremaining: 5.05s\n",
      "11:\tlearn: 0.3217125\ttotal: 330ms\tremaining: 5.17s\n",
      "12:\tlearn: 0.3147260\ttotal: 366ms\tremaining: 5.26s\n",
      "13:\tlearn: 0.3094454\ttotal: 404ms\tremaining: 5.37s\n",
      "14:\tlearn: 0.3051071\ttotal: 431ms\tremaining: 5.32s\n",
      "15:\tlearn: 0.3003795\ttotal: 469ms\tremaining: 5.39s\n",
      "16:\tlearn: 0.2964442\ttotal: 501ms\tremaining: 5.39s\n",
      "17:\tlearn: 0.2865324\ttotal: 537ms\tremaining: 5.42s\n",
      "18:\tlearn: 0.2807668\ttotal: 575ms\tremaining: 5.47s\n",
      "19:\tlearn: 0.2758972\ttotal: 611ms\tremaining: 5.5s\n",
      "20:\tlearn: 0.2725627\ttotal: 630ms\tremaining: 5.37s\n",
      "21:\tlearn: 0.2700030\ttotal: 643ms\tremaining: 5.2s\n",
      "22:\tlearn: 0.2659505\ttotal: 655ms\tremaining: 5.04s\n",
      "23:\tlearn: 0.2623684\ttotal: 667ms\tremaining: 4.89s\n",
      "24:\tlearn: 0.2591439\ttotal: 678ms\tremaining: 4.75s\n",
      "25:\tlearn: 0.2552913\ttotal: 690ms\tremaining: 4.62s\n",
      "26:\tlearn: 0.2521930\ttotal: 702ms\tremaining: 4.5s\n",
      "27:\tlearn: 0.2477352\ttotal: 715ms\tremaining: 4.39s\n",
      "28:\tlearn: 0.2450311\ttotal: 726ms\tremaining: 4.28s\n",
      "29:\tlearn: 0.2390606\ttotal: 739ms\tremaining: 4.18s\n",
      "30:\tlearn: 0.2376504\ttotal: 751ms\tremaining: 4.09s\n",
      "31:\tlearn: 0.2344793\ttotal: 764ms\tremaining: 4.01s\n",
      "32:\tlearn: 0.2317907\ttotal: 776ms\tremaining: 3.92s\n",
      "33:\tlearn: 0.2285815\ttotal: 788ms\tremaining: 3.85s\n",
      "34:\tlearn: 0.2241664\ttotal: 801ms\tremaining: 3.78s\n",
      "35:\tlearn: 0.2222909\ttotal: 817ms\tremaining: 3.72s\n",
      "36:\tlearn: 0.2202143\ttotal: 829ms\tremaining: 3.65s\n",
      "37:\tlearn: 0.2174910\ttotal: 841ms\tremaining: 3.59s\n",
      "38:\tlearn: 0.2160233\ttotal: 854ms\tremaining: 3.52s\n",
      "39:\tlearn: 0.2148134\ttotal: 866ms\tremaining: 3.46s\n",
      "40:\tlearn: 0.2136815\ttotal: 878ms\tremaining: 3.4s\n",
      "41:\tlearn: 0.2100247\ttotal: 891ms\tremaining: 3.35s\n",
      "42:\tlearn: 0.2071215\ttotal: 903ms\tremaining: 3.3s\n",
      "43:\tlearn: 0.2064154\ttotal: 915ms\tremaining: 3.24s\n",
      "44:\tlearn: 0.2047413\ttotal: 928ms\tremaining: 3.19s\n",
      "45:\tlearn: 0.2031352\ttotal: 939ms\tremaining: 3.14s\n",
      "46:\tlearn: 0.2007069\ttotal: 952ms\tremaining: 3.1s\n",
      "47:\tlearn: 0.1999036\ttotal: 968ms\tremaining: 3.06s\n",
      "48:\tlearn: 0.1993193\ttotal: 987ms\tremaining: 3.04s\n",
      "49:\tlearn: 0.1971525\ttotal: 1s\tremaining: 3s\n",
      "50:\tlearn: 0.1946993\ttotal: 1.02s\tremaining: 2.97s\n",
      "51:\tlearn: 0.1938915\ttotal: 1.03s\tremaining: 2.94s\n",
      "52:\tlearn: 0.1916506\ttotal: 1.05s\tremaining: 2.91s\n",
      "53:\tlearn: 0.1895653\ttotal: 1.06s\tremaining: 2.87s\n",
      "54:\tlearn: 0.1884064\ttotal: 1.07s\tremaining: 2.83s\n",
      "55:\tlearn: 0.1860657\ttotal: 1.09s\tremaining: 2.79s\n",
      "56:\tlearn: 0.1845400\ttotal: 1.1s\tremaining: 2.75s\n",
      "57:\tlearn: 0.1829975\ttotal: 1.11s\tremaining: 2.72s\n",
      "58:\tlearn: 0.1817732\ttotal: 1.12s\tremaining: 2.68s\n",
      "59:\tlearn: 0.1806008\ttotal: 1.13s\tremaining: 2.64s\n",
      "60:\tlearn: 0.1796633\ttotal: 1.14s\tremaining: 2.61s\n",
      "61:\tlearn: 0.1776392\ttotal: 1.16s\tremaining: 2.57s\n",
      "62:\tlearn: 0.1750294\ttotal: 1.17s\tremaining: 2.54s\n",
      "63:\tlearn: 0.1730595\ttotal: 1.18s\tremaining: 2.51s\n",
      "64:\tlearn: 0.1719457\ttotal: 1.19s\tremaining: 2.48s\n",
      "65:\tlearn: 0.1703650\ttotal: 1.21s\tremaining: 2.45s\n",
      "66:\tlearn: 0.1691498\ttotal: 1.22s\tremaining: 2.42s\n",
      "67:\tlearn: 0.1665072\ttotal: 1.23s\tremaining: 2.39s\n",
      "68:\tlearn: 0.1649043\ttotal: 1.24s\tremaining: 2.36s\n",
      "69:\tlearn: 0.1634526\ttotal: 1.25s\tremaining: 2.33s\n",
      "70:\tlearn: 0.1614340\ttotal: 1.27s\tremaining: 2.3s\n",
      "71:\tlearn: 0.1591573\ttotal: 1.28s\tremaining: 2.27s\n",
      "72:\tlearn: 0.1571816\ttotal: 1.29s\tremaining: 2.25s\n",
      "73:\tlearn: 0.1545204\ttotal: 1.3s\tremaining: 2.22s\n",
      "74:\tlearn: 0.1530024\ttotal: 1.31s\tremaining: 2.19s\n",
      "75:\tlearn: 0.1523417\ttotal: 1.33s\tremaining: 2.17s\n",
      "76:\tlearn: 0.1515492\ttotal: 1.34s\tremaining: 2.14s\n",
      "77:\tlearn: 0.1506557\ttotal: 1.35s\tremaining: 2.11s\n",
      "78:\tlearn: 0.1487955\ttotal: 1.36s\tremaining: 2.09s\n",
      "79:\tlearn: 0.1475263\ttotal: 1.37s\tremaining: 2.06s\n",
      "80:\tlearn: 0.1453135\ttotal: 1.39s\tremaining: 2.04s\n",
      "81:\tlearn: 0.1439964\ttotal: 1.4s\tremaining: 2.01s\n",
      "82:\tlearn: 0.1425594\ttotal: 1.41s\tremaining: 1.99s\n",
      "83:\tlearn: 0.1408817\ttotal: 1.42s\tremaining: 1.96s\n",
      "84:\tlearn: 0.1392149\ttotal: 1.43s\tremaining: 1.94s\n",
      "85:\tlearn: 0.1387565\ttotal: 1.45s\tremaining: 1.92s\n",
      "86:\tlearn: 0.1375658\ttotal: 1.46s\tremaining: 1.89s\n",
      "87:\tlearn: 0.1361897\ttotal: 1.47s\tremaining: 1.87s\n",
      "88:\tlearn: 0.1348410\ttotal: 1.48s\tremaining: 1.85s\n",
      "89:\tlearn: 0.1337565\ttotal: 1.49s\tremaining: 1.83s\n",
      "90:\tlearn: 0.1321527\ttotal: 1.51s\tremaining: 1.8s\n",
      "91:\tlearn: 0.1307945\ttotal: 1.52s\tremaining: 1.78s\n",
      "92:\tlearn: 0.1305193\ttotal: 1.53s\tremaining: 1.76s\n",
      "93:\tlearn: 0.1289947\ttotal: 1.54s\tremaining: 1.74s\n",
      "94:\tlearn: 0.1278468\ttotal: 1.55s\tremaining: 1.72s\n",
      "95:\tlearn: 0.1262705\ttotal: 1.57s\tremaining: 1.7s\n",
      "96:\tlearn: 0.1252751\ttotal: 1.58s\tremaining: 1.68s\n",
      "97:\tlearn: 0.1239742\ttotal: 1.59s\tremaining: 1.66s\n",
      "98:\tlearn: 0.1228300\ttotal: 1.6s\tremaining: 1.64s\n",
      "99:\tlearn: 0.1223507\ttotal: 1.62s\tremaining: 1.62s\n",
      "100:\tlearn: 0.1216796\ttotal: 1.63s\tremaining: 1.6s\n",
      "101:\tlearn: 0.1198561\ttotal: 1.65s\tremaining: 1.58s\n",
      "102:\tlearn: 0.1190712\ttotal: 1.66s\tremaining: 1.56s\n",
      "103:\tlearn: 0.1188323\ttotal: 1.67s\tremaining: 1.54s\n",
      "104:\tlearn: 0.1181380\ttotal: 1.68s\tremaining: 1.52s\n",
      "105:\tlearn: 0.1174409\ttotal: 1.69s\tremaining: 1.5s\n",
      "106:\tlearn: 0.1163974\ttotal: 1.7s\tremaining: 1.48s\n",
      "107:\tlearn: 0.1158752\ttotal: 1.72s\tremaining: 1.46s\n",
      "108:\tlearn: 0.1154416\ttotal: 1.73s\tremaining: 1.44s\n",
      "109:\tlearn: 0.1142874\ttotal: 1.74s\tremaining: 1.42s\n",
      "110:\tlearn: 0.1133574\ttotal: 1.75s\tremaining: 1.4s\n",
      "111:\tlearn: 0.1130754\ttotal: 1.76s\tremaining: 1.38s\n",
      "112:\tlearn: 0.1121704\ttotal: 1.77s\tremaining: 1.36s\n",
      "113:\tlearn: 0.1103918\ttotal: 1.78s\tremaining: 1.35s\n",
      "114:\tlearn: 0.1091410\ttotal: 1.8s\tremaining: 1.33s\n",
      "115:\tlearn: 0.1080739\ttotal: 1.81s\tremaining: 1.31s\n",
      "116:\tlearn: 0.1076791\ttotal: 1.82s\tremaining: 1.29s\n",
      "117:\tlearn: 0.1067196\ttotal: 1.83s\tremaining: 1.27s\n",
      "118:\tlearn: 0.1060087\ttotal: 1.85s\tremaining: 1.26s\n",
      "119:\tlearn: 0.1049709\ttotal: 1.86s\tremaining: 1.24s\n",
      "120:\tlearn: 0.1044834\ttotal: 1.87s\tremaining: 1.22s\n",
      "121:\tlearn: 0.1039143\ttotal: 1.89s\tremaining: 1.21s\n",
      "122:\tlearn: 0.1035903\ttotal: 1.9s\tremaining: 1.19s\n",
      "123:\tlearn: 0.1032113\ttotal: 1.91s\tremaining: 1.17s\n",
      "124:\tlearn: 0.1024179\ttotal: 1.92s\tremaining: 1.15s\n",
      "125:\tlearn: 0.1017896\ttotal: 1.93s\tremaining: 1.14s\n",
      "126:\tlearn: 0.1010797\ttotal: 1.95s\tremaining: 1.12s\n",
      "127:\tlearn: 0.1005665\ttotal: 1.96s\tremaining: 1.1s\n",
      "128:\tlearn: 0.0999388\ttotal: 1.97s\tremaining: 1.08s\n",
      "129:\tlearn: 0.0993595\ttotal: 1.98s\tremaining: 1.07s\n",
      "130:\tlearn: 0.0989225\ttotal: 1.99s\tremaining: 1.05s\n",
      "131:\tlearn: 0.0988700\ttotal: 2.01s\tremaining: 1.03s\n",
      "132:\tlearn: 0.0984012\ttotal: 2.02s\tremaining: 1.02s\n",
      "133:\tlearn: 0.0982847\ttotal: 2.03s\tremaining: 1s\n",
      "134:\tlearn: 0.0979992\ttotal: 2.04s\tremaining: 984ms\n",
      "135:\tlearn: 0.0969648\ttotal: 2.06s\tremaining: 967ms\n",
      "136:\tlearn: 0.0968089\ttotal: 2.07s\tremaining: 950ms\n",
      "137:\tlearn: 0.0964379\ttotal: 2.08s\tremaining: 934ms\n",
      "138:\tlearn: 0.0959693\ttotal: 2.09s\tremaining: 917ms\n",
      "139:\tlearn: 0.0956876\ttotal: 2.1s\tremaining: 901ms\n",
      "140:\tlearn: 0.0944265\ttotal: 2.11s\tremaining: 884ms\n",
      "141:\tlearn: 0.0941510\ttotal: 2.13s\tremaining: 868ms\n",
      "142:\tlearn: 0.0933219\ttotal: 2.14s\tremaining: 852ms\n",
      "143:\tlearn: 0.0926565\ttotal: 2.15s\tremaining: 836ms\n",
      "144:\tlearn: 0.0920029\ttotal: 2.16s\tremaining: 820ms\n",
      "145:\tlearn: 0.0916225\ttotal: 2.17s\tremaining: 804ms\n",
      "146:\tlearn: 0.0908637\ttotal: 2.18s\tremaining: 788ms\n",
      "147:\tlearn: 0.0904061\ttotal: 2.2s\tremaining: 772ms\n",
      "148:\tlearn: 0.0897710\ttotal: 2.21s\tremaining: 756ms\n",
      "149:\tlearn: 0.0894178\ttotal: 2.22s\tremaining: 740ms\n",
      "150:\tlearn: 0.0893864\ttotal: 2.23s\tremaining: 724ms\n",
      "151:\tlearn: 0.0888906\ttotal: 2.25s\tremaining: 709ms\n",
      "152:\tlearn: 0.0883669\ttotal: 2.26s\tremaining: 693ms\n",
      "153:\tlearn: 0.0880829\ttotal: 2.27s\tremaining: 678ms\n",
      "154:\tlearn: 0.0876374\ttotal: 2.28s\tremaining: 662ms\n",
      "155:\tlearn: 0.0874559\ttotal: 2.29s\tremaining: 647ms\n",
      "156:\tlearn: 0.0868513\ttotal: 2.31s\tremaining: 631ms\n",
      "157:\tlearn: 0.0858245\ttotal: 2.32s\tremaining: 616ms\n",
      "158:\tlearn: 0.0850944\ttotal: 2.33s\tremaining: 601ms\n",
      "159:\tlearn: 0.0843534\ttotal: 2.34s\tremaining: 586ms\n",
      "160:\tlearn: 0.0835770\ttotal: 2.35s\tremaining: 570ms\n",
      "161:\tlearn: 0.0832480\ttotal: 2.37s\tremaining: 555ms\n",
      "162:\tlearn: 0.0824052\ttotal: 2.38s\tremaining: 540ms\n",
      "163:\tlearn: 0.0812301\ttotal: 2.39s\tremaining: 525ms\n",
      "164:\tlearn: 0.0802105\ttotal: 2.4s\tremaining: 509ms\n",
      "165:\tlearn: 0.0801442\ttotal: 2.41s\tremaining: 494ms\n",
      "166:\tlearn: 0.0796658\ttotal: 2.42s\tremaining: 479ms\n",
      "167:\tlearn: 0.0794852\ttotal: 2.44s\tremaining: 464ms\n",
      "168:\tlearn: 0.0788625\ttotal: 2.45s\tremaining: 449ms\n",
      "169:\tlearn: 0.0784967\ttotal: 2.46s\tremaining: 435ms\n",
      "170:\tlearn: 0.0777385\ttotal: 2.48s\tremaining: 420ms\n",
      "171:\tlearn: 0.0773784\ttotal: 2.49s\tremaining: 405ms\n",
      "172:\tlearn: 0.0771024\ttotal: 2.5s\tremaining: 390ms\n",
      "173:\tlearn: 0.0766481\ttotal: 2.51s\tremaining: 375ms\n",
      "174:\tlearn: 0.0766229\ttotal: 2.52s\tremaining: 360ms\n",
      "175:\tlearn: 0.0765378\ttotal: 2.54s\tremaining: 346ms\n",
      "176:\tlearn: 0.0757201\ttotal: 2.55s\tremaining: 331ms\n",
      "177:\tlearn: 0.0754064\ttotal: 2.56s\tremaining: 316ms\n",
      "178:\tlearn: 0.0749762\ttotal: 2.57s\tremaining: 302ms\n",
      "179:\tlearn: 0.0743982\ttotal: 2.59s\tremaining: 288ms\n",
      "180:\tlearn: 0.0737502\ttotal: 2.6s\tremaining: 273ms\n",
      "181:\tlearn: 0.0731413\ttotal: 2.62s\tremaining: 259ms\n",
      "182:\tlearn: 0.0724099\ttotal: 2.63s\tremaining: 244ms\n",
      "183:\tlearn: 0.0722214\ttotal: 2.65s\tremaining: 230ms\n",
      "184:\tlearn: 0.0720319\ttotal: 2.66s\tremaining: 216ms\n",
      "185:\tlearn: 0.0716903\ttotal: 2.68s\tremaining: 201ms\n",
      "186:\tlearn: 0.0714344\ttotal: 2.69s\tremaining: 187ms\n",
      "187:\tlearn: 0.0710816\ttotal: 2.7s\tremaining: 173ms\n",
      "188:\tlearn: 0.0709562\ttotal: 2.72s\tremaining: 158ms\n",
      "189:\tlearn: 0.0707682\ttotal: 2.73s\tremaining: 144ms\n",
      "190:\tlearn: 0.0702527\ttotal: 2.75s\tremaining: 129ms\n",
      "191:\tlearn: 0.0700479\ttotal: 2.76s\tremaining: 115ms\n",
      "192:\tlearn: 0.0695488\ttotal: 2.77s\tremaining: 101ms\n",
      "193:\tlearn: 0.0690203\ttotal: 2.79s\tremaining: 86.2ms\n",
      "194:\tlearn: 0.0687412\ttotal: 2.8s\tremaining: 71.7ms\n",
      "195:\tlearn: 0.0680228\ttotal: 2.81s\tremaining: 57.4ms\n",
      "196:\tlearn: 0.0678206\ttotal: 2.82s\tremaining: 43ms\n",
      "197:\tlearn: 0.0676888\ttotal: 2.83s\tremaining: 28.6ms\n",
      "198:\tlearn: 0.0669139\ttotal: 2.85s\tremaining: 14.3ms\n",
      "199:\tlearn: 0.0662760\ttotal: 2.86s\tremaining: 0us\n",
      "              precision    recall  f1-score   support\n",
      "\n",
      "           0       0.99      0.98      0.98      1039\n",
      "           1       0.98      0.99      0.98      1041\n",
      "\n",
      "    accuracy                           0.98      2080\n",
      "   macro avg       0.98      0.98      0.98      2080\n",
      "weighted avg       0.98      0.98      0.98      2080\n",
      "\n"
     ]
    }
   ],
   "source": [
    "model_6 = CatBoostClassifier(iterations=200)\n",
    "model_6.fit(X_train,Y_train)\n",
    "pred_6 = model_5.predict(x_test)\n",
    "cr6    = classification_report(y_test,pred_5)\n",
    "print(cr6)"
   ]
  },
  {
   "cell_type": "markdown",
   "id": "promotional-nurse",
   "metadata": {
    "papermill": {
     "duration": 0.039666,
     "end_time": "2021-04-24T06:10:48.090710",
     "exception": false,
     "start_time": "2021-04-24T06:10:48.051044",
     "status": "completed"
    },
    "tags": []
   },
   "source": [
    "**7. LSTM**\n",
    "\n",
    "**In this model, 1.) The value for embedding feature vectors = 40 which are target feature vectors for the embedding layer. 2.) Single LSTM Layer with 100 nodes are used. 3.)Dense Layer with 1 neuron and sigmoid activation function is used since, this is a binary classification problem. 4) Dropout technique is used to avoid overfiiting and adam optimizer is used for optimizing the loss function.**"
   ]
  },
  {
   "cell_type": "code",
   "execution_count": 26,
   "id": "abandoned-brazil",
   "metadata": {
    "execution": {
     "iopub.execute_input": "2021-04-24T06:10:48.173538Z",
     "iopub.status.busy": "2021-04-24T06:10:48.172991Z",
     "iopub.status.idle": "2021-04-24T06:10:52.521541Z",
     "shell.execute_reply": "2021-04-24T06:10:52.520930Z"
    },
    "papermill": {
     "duration": 4.391849,
     "end_time": "2021-04-24T06:10:52.521714",
     "exception": false,
     "start_time": "2021-04-24T06:10:48.129865",
     "status": "completed"
    },
    "tags": []
   },
   "outputs": [
    {
     "name": "stdout",
     "output_type": "stream",
     "text": [
      "Model: \"sequential\"\n",
      "_________________________________________________________________\n",
      "Layer (type)                 Output Shape              Param #   \n",
      "=================================================================\n",
      "embedding (Embedding)        (None, 20, 40)            200000    \n",
      "_________________________________________________________________\n",
      "dropout (Dropout)            (None, 20, 40)            0         \n",
      "_________________________________________________________________\n",
      "lstm (LSTM)                  (None, 100)               56400     \n",
      "_________________________________________________________________\n",
      "dropout_1 (Dropout)          (None, 100)               0         \n",
      "_________________________________________________________________\n",
      "dense (Dense)                (None, 1)                 101       \n",
      "=================================================================\n",
      "Total params: 256,501\n",
      "Trainable params: 256,501\n",
      "Non-trainable params: 0\n",
      "_________________________________________________________________\n",
      "None\n"
     ]
    }
   ],
   "source": [
    "# Creating the LSTM Model for prediction\n",
    "embedding_feature_vector = 40\n",
    "model = Sequential()\n",
    "model.add(Embedding(vocab_size,embedding_feature_vector,input_length=sent_length))\n",
    "model.add(Dropout(0.3))\n",
    "model.add(LSTM(100))\n",
    "model.add(Dropout(0.3))\n",
    "model.add(Dense(1,activation='sigmoid'))\n",
    "model.compile(loss='binary_crossentropy',optimizer='adam',metrics=['accuracy'])\n",
    "print(model.summary())"
   ]
  },
  {
   "cell_type": "code",
   "execution_count": 27,
   "id": "micro-federation",
   "metadata": {
    "execution": {
     "iopub.execute_input": "2021-04-24T06:10:52.604156Z",
     "iopub.status.busy": "2021-04-24T06:10:52.603529Z",
     "iopub.status.idle": "2021-04-24T06:11:23.118921Z",
     "shell.execute_reply": "2021-04-24T06:11:23.119348Z"
    },
    "papermill": {
     "duration": 30.559349,
     "end_time": "2021-04-24T06:11:23.119577",
     "exception": false,
     "start_time": "2021-04-24T06:10:52.560228",
     "status": "completed"
    },
    "tags": []
   },
   "outputs": [
    {
     "name": "stdout",
     "output_type": "stream",
     "text": [
      "Epoch 1/10\n",
      "264/264 [==============================] - 7s 13ms/step - loss: 0.3790 - accuracy: 0.7907 - val_loss: 0.0338 - val_accuracy: 0.9904\n",
      "Epoch 2/10\n",
      "264/264 [==============================] - 2s 9ms/step - loss: 0.0296 - accuracy: 0.9908 - val_loss: 0.0197 - val_accuracy: 0.9931\n",
      "Epoch 3/10\n",
      "264/264 [==============================] - 2s 9ms/step - loss: 0.0120 - accuracy: 0.9968 - val_loss: 0.0314 - val_accuracy: 0.9909\n",
      "Epoch 4/10\n",
      "264/264 [==============================] - 3s 9ms/step - loss: 0.0071 - accuracy: 0.9978 - val_loss: 0.0316 - val_accuracy: 0.9925\n",
      "Epoch 5/10\n",
      "264/264 [==============================] - 3s 11ms/step - loss: 0.0026 - accuracy: 0.9992 - val_loss: 0.0319 - val_accuracy: 0.9915\n",
      "Epoch 6/10\n",
      "264/264 [==============================] - 3s 10ms/step - loss: 0.0063 - accuracy: 0.9985 - val_loss: 0.0274 - val_accuracy: 0.9931\n",
      "Epoch 7/10\n",
      "264/264 [==============================] - 3s 10ms/step - loss: 9.7773e-04 - accuracy: 0.9999 - val_loss: 0.0276 - val_accuracy: 0.9925\n",
      "Epoch 8/10\n",
      "264/264 [==============================] - 2s 9ms/step - loss: 0.0012 - accuracy: 0.9998 - val_loss: 0.0301 - val_accuracy: 0.9936\n",
      "Epoch 9/10\n",
      "264/264 [==============================] - 3s 10ms/step - loss: 8.0450e-04 - accuracy: 0.9998 - val_loss: 0.0408 - val_accuracy: 0.9915\n",
      "Epoch 10/10\n",
      "264/264 [==============================] - 2s 9ms/step - loss: 3.3424e-04 - accuracy: 0.9999 - val_loss: 0.0389 - val_accuracy: 0.9936\n"
     ]
    },
    {
     "data": {
      "text/plain": [
       "<tensorflow.python.keras.callbacks.History at 0x7fbdd23bc2d0>"
      ]
     },
     "execution_count": 27,
     "metadata": {},
     "output_type": "execute_result"
    }
   ],
   "source": [
    "# Training the model\n",
    "model.fit(X_train,Y_train,validation_data=(x_valid,y_valid),epochs=10,batch_size=64)"
   ]
  },
  {
   "cell_type": "code",
   "execution_count": 28,
   "id": "perceived-savings",
   "metadata": {
    "execution": {
     "iopub.execute_input": "2021-04-24T06:11:23.466355Z",
     "iopub.status.busy": "2021-04-24T06:11:23.465724Z",
     "iopub.status.idle": "2021-04-24T06:11:23.982124Z",
     "shell.execute_reply": "2021-04-24T06:11:23.981162Z"
    },
    "papermill": {
     "duration": 0.691541,
     "end_time": "2021-04-24T06:11:23.982274",
     "exception": false,
     "start_time": "2021-04-24T06:11:23.290733",
     "status": "completed"
    },
    "tags": []
   },
   "outputs": [
    {
     "name": "stderr",
     "output_type": "stream",
     "text": [
      "/opt/conda/lib/python3.7/site-packages/tensorflow/python/keras/engine/sequential.py:450: UserWarning: `model.predict_classes()` is deprecated and will be removed after 2021-01-01. Please use instead:* `np.argmax(model.predict(x), axis=-1)`,   if your model does multi-class classification   (e.g. if it uses a `softmax` last-layer activation).* `(model.predict(x) > 0.5).astype(\"int32\")`,   if your model does binary classification   (e.g. if it uses a `sigmoid` last-layer activation).\n",
      "  warnings.warn('`model.predict_classes()` is deprecated and '\n"
     ]
    },
    {
     "name": "stdout",
     "output_type": "stream",
     "text": [
      "              precision    recall  f1-score   support\n",
      "\n",
      "           0       0.99      0.99      0.99      1039\n",
      "           1       0.99      0.99      0.99      1041\n",
      "\n",
      "    accuracy                           0.99      2080\n",
      "   macro avg       0.99      0.99      0.99      2080\n",
      "weighted avg       0.99      0.99      0.99      2080\n",
      "\n"
     ]
    }
   ],
   "source": [
    "predictions = model.predict_classes(x_test)\n",
    "cr = classification_report(y_test,predictions)\n",
    "print(cr)"
   ]
  },
  {
   "cell_type": "markdown",
   "id": "victorian-canon",
   "metadata": {
    "papermill": {
     "duration": 0.174951,
     "end_time": "2021-04-24T06:11:24.334811",
     "exception": false,
     "start_time": "2021-04-24T06:11:24.159860",
     "status": "completed"
    },
    "tags": []
   },
   "source": [
    "# Evaluation of Models"
   ]
  },
  {
   "cell_type": "markdown",
   "id": "absent-future",
   "metadata": {
    "papermill": {
     "duration": 0.178314,
     "end_time": "2021-04-24T06:11:24.683085",
     "exception": false,
     "start_time": "2021-04-24T06:11:24.504771",
     "status": "completed"
    },
    "tags": []
   },
   "source": [
    "**Tabulating the results of various implemented models.**"
   ]
  },
  {
   "cell_type": "code",
   "execution_count": 29,
   "id": "bridal-shelter",
   "metadata": {
    "execution": {
     "iopub.execute_input": "2021-04-24T06:11:25.053970Z",
     "iopub.status.busy": "2021-04-24T06:11:25.053212Z",
     "iopub.status.idle": "2021-04-24T06:11:25.071010Z",
     "shell.execute_reply": "2021-04-24T06:11:25.070432Z"
    },
    "papermill": {
     "duration": 0.206178,
     "end_time": "2021-04-24T06:11:25.071167",
     "exception": false,
     "start_time": "2021-04-24T06:11:24.864989",
     "status": "completed"
    },
    "tags": []
   },
   "outputs": [
    {
     "data": {
      "text/html": [
       "<div>\n",
       "<style scoped>\n",
       "    .dataframe tbody tr th:only-of-type {\n",
       "        vertical-align: middle;\n",
       "    }\n",
       "\n",
       "    .dataframe tbody tr th {\n",
       "        vertical-align: top;\n",
       "    }\n",
       "\n",
       "    .dataframe thead th {\n",
       "        text-align: right;\n",
       "    }\n",
       "</style>\n",
       "<table border=\"1\" class=\"dataframe\">\n",
       "  <thead>\n",
       "    <tr style=\"text-align: right;\">\n",
       "      <th></th>\n",
       "      <th>Model</th>\n",
       "      <th>Accuracy</th>\n",
       "    </tr>\n",
       "  </thead>\n",
       "  <tbody>\n",
       "    <tr>\n",
       "      <th>0</th>\n",
       "      <td>Logistic Regression</td>\n",
       "      <td>0.705769</td>\n",
       "    </tr>\n",
       "    <tr>\n",
       "      <th>1</th>\n",
       "      <td>Naive Bayes</td>\n",
       "      <td>0.670673</td>\n",
       "    </tr>\n",
       "    <tr>\n",
       "      <th>2</th>\n",
       "      <td>Decision Tree</td>\n",
       "      <td>0.899038</td>\n",
       "    </tr>\n",
       "    <tr>\n",
       "      <th>3</th>\n",
       "      <td>Random Forest</td>\n",
       "      <td>0.903365</td>\n",
       "    </tr>\n",
       "    <tr>\n",
       "      <th>4</th>\n",
       "      <td>XGBOOST</td>\n",
       "      <td>0.984135</td>\n",
       "    </tr>\n",
       "    <tr>\n",
       "      <th>5</th>\n",
       "      <td>CatBoost</td>\n",
       "      <td>0.984135</td>\n",
       "    </tr>\n",
       "    <tr>\n",
       "      <th>6</th>\n",
       "      <td>LSTM</td>\n",
       "      <td>0.992788</td>\n",
       "    </tr>\n",
       "  </tbody>\n",
       "</table>\n",
       "</div>"
      ],
      "text/plain": [
       "                 Model  Accuracy\n",
       "0  Logistic Regression  0.705769\n",
       "1          Naive Bayes  0.670673\n",
       "2        Decision Tree  0.899038\n",
       "3        Random Forest  0.903365\n",
       "4              XGBOOST  0.984135\n",
       "5             CatBoost  0.984135\n",
       "6                 LSTM  0.992788"
      ]
     },
     "execution_count": 29,
     "metadata": {},
     "output_type": "execute_result"
    }
   ],
   "source": [
    "score_1 = accuracy_score(y_test,pred_1)\n",
    "score_2 = accuracy_score(y_test,pred_2)\n",
    "score_3 = accuracy_score(y_test,pred_3)\n",
    "score_4 = accuracy_score(y_test,pred_4)\n",
    "score_5 = accuracy_score(y_test,pred_5)\n",
    "score_6 = accuracy_score(y_test,pred_6)\n",
    "score_7 = accuracy_score(y_test,predictions)\n",
    "results = pd.DataFrame([[\"Logistic Regression\",score_1],[\"Naive Bayes\",score_2],[\"Decision Tree\",score_3],\n",
    "                       [\"Random Forest\",score_4],[\"XGBOOST\",score_5],[\"CatBoost\",score_6],[\"LSTM\",score_7]],columns=[\"Model\",\"Accuracy\"])\n",
    "results"
   ]
  },
  {
   "cell_type": "markdown",
   "id": "sound-establishment",
   "metadata": {
    "papermill": {
     "duration": 0.17424,
     "end_time": "2021-04-24T06:11:25.440377",
     "exception": false,
     "start_time": "2021-04-24T06:11:25.266137",
     "status": "completed"
    },
    "tags": []
   },
   "source": [
    "**Discussion: From the above results, it appears that LSTM Model gives the highest accuracy amongst various models. Therefore, it is selected as the final model for making predictions on final testing data.**"
   ]
  },
  {
   "cell_type": "markdown",
   "id": "emerging-council",
   "metadata": {
    "papermill": {
     "duration": 0.173499,
     "end_time": "2021-04-24T06:11:25.788093",
     "exception": false,
     "start_time": "2021-04-24T06:11:25.614594",
     "status": "completed"
    },
    "tags": []
   },
   "source": [
    "**Predictions on Testing Data**"
   ]
  },
  {
   "cell_type": "code",
   "execution_count": 30,
   "id": "sustained-plastic",
   "metadata": {
    "execution": {
     "iopub.execute_input": "2021-04-24T06:11:26.161453Z",
     "iopub.status.busy": "2021-04-24T06:11:26.160513Z",
     "iopub.status.idle": "2021-04-24T06:11:26.874583Z",
     "shell.execute_reply": "2021-04-24T06:11:26.873976Z"
    },
    "papermill": {
     "duration": 0.908815,
     "end_time": "2021-04-24T06:11:26.874728",
     "exception": false,
     "start_time": "2021-04-24T06:11:25.965913",
     "status": "completed"
    },
    "tags": []
   },
   "outputs": [
    {
     "name": "stderr",
     "output_type": "stream",
     "text": [
      "/opt/conda/lib/python3.7/site-packages/tensorflow/python/keras/engine/sequential.py:450: UserWarning: `model.predict_classes()` is deprecated and will be removed after 2021-01-01. Please use instead:* `np.argmax(model.predict(x), axis=-1)`,   if your model does multi-class classification   (e.g. if it uses a `softmax` last-layer activation).* `(model.predict(x) > 0.5).astype(\"int32\")`,   if your model does binary classification   (e.g. if it uses a `sigmoid` last-layer activation).\n",
      "  warnings.warn('`model.predict_classes()` is deprecated and '\n"
     ]
    }
   ],
   "source": [
    "# Making Predictions on test data\n",
    "predictions_test = pd.DataFrame(model.predict_classes(x_test_final))\n",
    "test_id = pd.DataFrame(test[\"id\"])\n",
    "submission = pd.concat([test_id,predictions_test],axis=1)\n",
    "submission.columns = [\"id\",\"label\"]\n",
    "submission.to_csv(\"Submission.csv\",index=False)"
   ]
  },
  {
   "cell_type": "code",
   "execution_count": 31,
   "id": "clinical-purple",
   "metadata": {
    "execution": {
     "iopub.execute_input": "2021-04-24T06:11:27.233542Z",
     "iopub.status.busy": "2021-04-24T06:11:27.232471Z",
     "iopub.status.idle": "2021-04-24T06:11:27.237793Z",
     "shell.execute_reply": "2021-04-24T06:11:27.237266Z"
    },
    "papermill": {
     "duration": 0.187598,
     "end_time": "2021-04-24T06:11:27.237939",
     "exception": false,
     "start_time": "2021-04-24T06:11:27.050341",
     "status": "completed"
    },
    "tags": []
   },
   "outputs": [
    {
     "data": {
      "text/html": [
       "<div>\n",
       "<style scoped>\n",
       "    .dataframe tbody tr th:only-of-type {\n",
       "        vertical-align: middle;\n",
       "    }\n",
       "\n",
       "    .dataframe tbody tr th {\n",
       "        vertical-align: top;\n",
       "    }\n",
       "\n",
       "    .dataframe thead th {\n",
       "        text-align: right;\n",
       "    }\n",
       "</style>\n",
       "<table border=\"1\" class=\"dataframe\">\n",
       "  <thead>\n",
       "    <tr style=\"text-align: right;\">\n",
       "      <th></th>\n",
       "      <th>id</th>\n",
       "      <th>label</th>\n",
       "    </tr>\n",
       "  </thead>\n",
       "  <tbody>\n",
       "    <tr>\n",
       "      <th>0</th>\n",
       "      <td>20800</td>\n",
       "      <td>0</td>\n",
       "    </tr>\n",
       "    <tr>\n",
       "      <th>1</th>\n",
       "      <td>20801</td>\n",
       "      <td>1</td>\n",
       "    </tr>\n",
       "    <tr>\n",
       "      <th>2</th>\n",
       "      <td>20802</td>\n",
       "      <td>1</td>\n",
       "    </tr>\n",
       "    <tr>\n",
       "      <th>3</th>\n",
       "      <td>20803</td>\n",
       "      <td>0</td>\n",
       "    </tr>\n",
       "    <tr>\n",
       "      <th>4</th>\n",
       "      <td>20804</td>\n",
       "      <td>1</td>\n",
       "    </tr>\n",
       "  </tbody>\n",
       "</table>\n",
       "</div>"
      ],
      "text/plain": [
       "      id  label\n",
       "0  20800      0\n",
       "1  20801      1\n",
       "2  20802      1\n",
       "3  20803      0\n",
       "4  20804      1"
      ]
     },
     "execution_count": 31,
     "metadata": {},
     "output_type": "execute_result"
    }
   ],
   "source": [
    "submission.head()"
   ]
  }
 ],
 "metadata": {
  "kernelspec": {
   "display_name": "Python 3",
   "language": "python",
   "name": "python3"
  },
  "language_info": {
   "codemirror_mode": {
    "name": "ipython",
    "version": 3
   },
   "file_extension": ".py",
   "mimetype": "text/x-python",
   "name": "python",
   "nbconvert_exporter": "python",
   "pygments_lexer": "ipython3",
   "version": "3.7.10"
  },
  "papermill": {
   "default_parameters": {},
   "duration": 132.042273,
   "end_time": "2021-04-24T06:11:31.046934",
   "environment_variables": {},
   "exception": null,
   "input_path": "__notebook__.ipynb",
   "output_path": "__notebook__.ipynb",
   "parameters": {},
   "start_time": "2021-04-24T06:09:19.004661",
   "version": "2.3.3"
  }
 },
 "nbformat": 4,
 "nbformat_minor": 5
}
